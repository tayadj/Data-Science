{
  "metadata": {
    "kernelspec": {
      "name": "python",
      "display_name": "Python (Pyodide)",
      "language": "python"
    },
    "language_info": {
      "codemirror_mode": {
        "name": "python",
        "version": 3
      },
      "file_extension": ".py",
      "mimetype": "text/x-python",
      "name": "python",
      "nbconvert_exporter": "python",
      "pygments_lexer": "ipython3",
      "version": "3.8"
    },
    "colab": {
      "provenance": []
    }
  },
  "nbformat_minor": 4,
  "nbformat": 4,
  "cells": [
    {
      "cell_type": "markdown",
      "source": "# **Housing Price Analysis**",
      "metadata": {
        "id": "6M8A0R69chM_"
      }
    },
    {
      "cell_type": "code",
      "source": "import numpy as np\nimport pandas as pd\nimport matplotlib.pyplot as plt\nimport warnings\nwarnings.filterwarnings(\"ignore\")",
      "metadata": {
        "id": "AYcOTGVBZ87S",
        "trusted": true
      },
      "outputs": [],
      "execution_count": 40
    },
    {
      "cell_type": "code",
      "source": "zillow_df = pd.read_csv(\"/drive/data/data_zillow_house_prices.csv\")\nzillow_df = zillow_df.set_index('RegionName')\nzillow_df = zillow_df.drop(columns=[i for i in zillow_df.columns if '-' not in i]).T\nzillow_df.index = pd.to_datetime(zillow_df.index)",
      "metadata": {
        "id": "qewSawl8Z_mb",
        "trusted": true
      },
      "outputs": [],
      "execution_count": 4
    },
    {
      "cell_type": "code",
      "source": "interest_df = pd.read_csv(\"/drive/data/data_interest_rates.csv\")\ninterest_df[\"DATE\"] = pd.to_datetime(interest_df[\"DATE\"])\ninterest_df = interest_df.set_index(\"DATE\")\ninterest_series = interest_df.resample(rule='M')['MORTGAGE30US'].mean()",
      "metadata": {
        "id": "Z0rhLfSLb--s",
        "trusted": true
      },
      "outputs": [],
      "execution_count": 5
    },
    {
      "cell_type": "code",
      "source": "print(\"Number of rows:\", len(zillow_df.columns))\nprint(zillow_df.columns)\nprint(zillow_df.index)",
      "metadata": {
        "colab": {
          "base_uri": "https://localhost:8080/"
        },
        "id": "xx_xkOkxdNUf",
        "outputId": "7220c977-527d-4ee1-a6bb-6ddf792c0286",
        "trusted": true
      },
      "outputs": [
        {
          "name": "stdout",
          "text": "Number of rows: 893\nIndex(['United States', 'New York, NY', 'Los Angeles, CA', 'Chicago, IL',\n       'Dallas, TX', 'Houston, TX', 'Washington, DC', 'Miami, FL',\n       'Philadelphia, PA', 'Atlanta, GA',\n       ...\n       'Pecos, TX', 'Atchison, KS', 'Spencer, IA', 'Sweetwater, TX',\n       'Vermillion, SD', 'Zapata, TX', 'Ketchikan, AK', 'Craig, CO',\n       'Lamesa, TX', 'Vernon, TX'],\n      dtype='object', name='RegionName', length=893)\nDatetimeIndex(['2000-01-31', '2000-02-29', '2000-03-31', '2000-04-30',\n               '2000-05-31', '2000-06-30', '2000-07-31', '2000-08-31',\n               '2000-09-30', '2000-10-31',\n               ...\n               '2021-11-30', '2021-12-31', '2022-01-31', '2022-02-28',\n               '2022-03-31', '2022-04-30', '2022-05-31', '2022-06-30',\n               '2022-07-31', '2022-08-31'],\n              dtype='datetime64[ns]', length=272, freq=None)\n",
          "output_type": "stream"
        }
      ],
      "execution_count": 10
    },
    {
      "cell_type": "code",
      "source": "print(\"Number of missing data:\", np.sum(np.sum(zillow_df.isnull())))\nprint(\"Minimum of interest rate:\", np.min(interest_df))\nprint(\"Maximum of interest rate:\", np.max(interest_df))",
      "metadata": {
        "colab": {
          "base_uri": "https://localhost:8080/"
        },
        "id": "_81pXYe5fFmA",
        "outputId": "ecb78147-c7f3-47b7-dd12-063f7c3a7f93",
        "trusted": true
      },
      "outputs": [
        {
          "name": "stdout",
          "text": "Number of missing data: 49519\nMinimum of interest rate: 2.65\nMaximum of interest rate: 18.63\n",
          "output_type": "stream"
        }
      ],
      "execution_count": 11
    },
    {
      "cell_type": "markdown",
      "source": "#### Illustrate the figure for Boston, MA",
      "metadata": {
        "id": "hNDh9eqlcz_i"
      }
    },
    {
      "cell_type": "code",
      "source": "zillow_df.plot(y=['Boston, MA'], figsize=(7, 4))",
      "metadata": {
        "id": "mE1fz2cKc30o",
        "colab": {
          "base_uri": "https://localhost:8080/",
          "height": 539
        },
        "outputId": "6d48e870-c998-430c-898d-8cdd5c75114c",
        "trusted": true
      },
      "outputs": [
        {
          "execution_count": 14,
          "output_type": "execute_result",
          "data": {
            "text/plain": "<AxesSubplot:>"
          },
          "metadata": {}
        },
        {
          "output_type": "display_data",
          "data": {
            "text/plain": "<Figure size 700x400 with 1 Axes>",
            "image/png": "[encoded data removed]"
          },
          "metadata": {}
        }
      ],
      "execution_count": 14
    },
    {
      "cell_type": "code",
      "source": "from statsmodels.tsa.stattools import adfuller\nfrom statsmodels.formula.api import ols\n\nstart_time = pd.to_datetime('2010-01-01')\nend_time = pd.to_datetime('2017-12-31')\ntrain_boston_ts = zillow_df.loc[start_time: end_time, 'Boston, MA']\n_, p, _, _, _, _ = adfuller(train_boston_ts)\nprint(\"ADF Test, p-value=\", p)",
      "metadata": {
        "id": "Mcf83nkoTLHD",
        "colab": {
          "base_uri": "https://localhost:8080/"
        },
        "outputId": "b3adb2ef-0330-4c87-c3cb-92badb544f82",
        "trusted": true
      },
      "outputs": [
        {
          "name": "stdout",
          "text": "ADF Test, p-value= 0.9787243261392025\n",
          "output_type": "stream"
        }
      ],
      "execution_count": 15
    },
    {
      "cell_type": "code",
      "source": "def test_stationarity(series):\n  _, p, _, _, _, _ = adfuller(series)\n  print(\"ADF Test, p-value=\", p)\n\ndef remove_trend(formula, data, print_summary=False):\n  mdl = ols(formula, data).fit()\n  if print_summary is True:\n    print(mdl.summary())\n  return mdl.resid",
      "metadata": {
        "id": "a66xG0e5Z44m",
        "trusted": true
      },
      "outputs": [],
      "execution_count": 16
    },
    {
      "cell_type": "code",
      "source": "test_stationarity(train_boston_ts)\nt_series = np.arange(len(train_boston_ts))\ntest_stationarity(remove_trend(\n    formula='x ~ t',\n    data={'x': train_boston_ts, 't': t_series}))\ntest_stationarity(remove_trend(\n    formula='x ~ t + tt',\n    data={'x': train_boston_ts, 't': t_series, 'tt': t_series**2}))\ntest_stationarity(remove_trend(\n    formula='x ~ t + tt + ttt',\n    data={'x': train_boston_ts, 't': t_series, 'tt': t_series**2, 'ttt': t_series**3}))",
      "metadata": {
        "id": "PCv5svQ7VE4j",
        "colab": {
          "base_uri": "https://localhost:8080/"
        },
        "outputId": "3cc1833d-4ad4-4c9e-b1f7-14c9d7b8bac5",
        "trusted": true
      },
      "outputs": [
        {
          "name": "stdout",
          "text": "ADF Test, p-value= 0.9787243261392025\nADF Test, p-value= 0.03287906071428976\nADF Test, p-value= 0.03545054499297015\nADF Test, p-value= 0.0023274174117385487\n",
          "output_type": "stream"
        }
      ],
      "execution_count": 17
    },
    {
      "cell_type": "markdown",
      "source": "#### Another way to stabelize a time series is to calculate the difference series.",
      "metadata": {
        "id": "SAzMgxkXkOog"
      }
    },
    {
      "cell_type": "code",
      "source": "start_time = pd.to_datetime('2010-01-01')\nend_time = pd.to_datetime('2017-12-31')\ntrain_boston_ts = zillow_df.loc[start_time: end_time, 'Boston, MA']\n_, p, _, _, _, _ = adfuller(train_boston_ts)\nprint(\"ADF Test, p-value=\", p)\n_, p, _, _, _, _ = adfuller(train_boston_ts.diff(1).dropna())\nprint(\"ADF Test, p-value=\", p)\n_, p, _, _, _, _ = adfuller(train_boston_ts.diff(1).dropna().diff(1).dropna())\nprint(\"ADF Test, p-value=\", p)",
      "metadata": {
        "id": "7r1As4Xnjpff",
        "colab": {
          "base_uri": "https://localhost:8080/"
        },
        "outputId": "35b701a5-945b-448e-9a18-10008f12b85c",
        "trusted": true
      },
      "outputs": [
        {
          "name": "stdout",
          "text": "ADF Test, p-value= 0.9787243261392025\nADF Test, p-value= 0.5771690844120718\nADF Test, p-value= 3.052895844915407e-15\n",
          "output_type": "stream"
        }
      ],
      "execution_count": 18
    },
    {
      "cell_type": "markdown",
      "source": "#### Illustrate the ACF/PACF figures:",
      "metadata": {
        "id": "7FT_z-3sxl9l"
      }
    },
    {
      "cell_type": "code",
      "source": "from statsmodels.graphics.tsaplots import plot_acf\nfrom statsmodels.graphics.tsaplots import plot_pacf\n\ndetrend_boston_ts = remove_trend(\n    formula = 'x ~ t',\n    data = {'x': train_boston_ts, 't': t_series})",
      "metadata": {
        "id": "zYUNRa5wxukG",
        "trusted": true
      },
      "outputs": [],
      "execution_count": 31
    },
    {
      "cell_type": "code",
      "source": "fig, axes = plt.subplots(nrows=1, ncols=2, figsize=(15,6))\nplot_acf(detrend_boston_ts, ax=axes[0], title=\"\")\nplot_pacf(detrend_boston_ts, ax=axes[1], title=\"\")\nplt.show()\nplt.show()",
      "metadata": {
        "id": "cjCPt71wyAXX",
        "colab": {
          "base_uri": "https://localhost:8080/",
          "height": 435
        },
        "outputId": "99d98193-6f08-4649-85a7-adb5308b54a0",
        "trusted": true
      },
      "outputs": [
        {
          "output_type": "display_data",
          "data": {
            "text/plain": "<Figure size 1500x600 with 2 Axes>",
            "image/png": "[encoded data removed]"
          },
          "metadata": {}
        }
      ],
      "execution_count": 43
    },
    {
      "cell_type": "code",
      "source": "from statsmodels.tsa.arima.model import ARIMA\n\ntrend_mdl = ols(formula='x ~ t', data={'x': train_boston_ts, 't': t_series}).fit()\nfor p in [1, 2, 3, 4, 5]:\n    mdl = ARIMA(detrend_boston_ts.to_numpy(), order=(p, 0, 0), trend='n').fit()\n    pred = mdl.predict() + trend_mdl.predict()\n    print(\"p=\", p, \", MSE=\", np.mean((pred - train_boston_ts)**2))\n    plt.plot(pred[1:], label=\"p=\" + str(p))\nplt.legend()\nplt.show()",
      "metadata": {
        "id": "BotRcm8l8ksI",
        "colab": {
          "base_uri": "https://localhost:8080/",
          "height": 517
        },
        "outputId": "4cf8cc67-ba11-4587-f285-d6b956a8730f",
        "trusted": true
      },
      "outputs": [
        {
          "name": "stdout",
          "text": "p= 1 , MSE= 11573980.82623937\np= 2 , MSE= 9942713.487420518\np= 3 , MSE= 9941923.641506338\np= 4 , MSE= 9940353.883502934\np= 5 , MSE= 9830276.733207613\n",
          "output_type": "stream"
        },
        {
          "output_type": "display_data",
          "data": {
            "text/plain": "<Figure size 640x480 with 1 Axes>",
            "image/png": "[encoded data removed]"
          },
          "metadata": {}
        }
      ],
      "execution_count": 44
    },
    {
      "cell_type": "markdown",
      "source": "#### Long-Term Forecasting.",
      "metadata": {
        "id": "hLHNeTLYxlvc"
      }
    },
    {
      "cell_type": "code",
      "source": "from sklearn.linear_model import LinearRegression\nfrom statsmodels.tsa.arima.model import ARIMA\nfrom statsmodels.formula.api import ols\nimport statsmodels.api as sm\n\ntrain_start_time = pd.to_datetime('2010-01-01')\ntrain_end_time = pd.to_datetime('2017-12-31')\ntest_start_time = pd.to_datetime('2018-01-01')\ntest_end_time = pd.to_datetime('2019-12-31')\n\ntrain_boston_ts = zillow_df.loc[train_start_time:train_end_time, 'Boston, MA']\ntest_boston_ts = zillow_df.loc[test_start_time:test_end_time, 'Boston, MA']\ntrain_t_series = np.arange(len(train_boston_ts))\ntest_t_series = np.arange(len(train_boston_ts), len(train_boston_ts) + len(test_boston_ts))\n\ntrend_mdl_sm = sm.OLS(train_boston_ts, sm.add_constant(train_t_series)).fit()\nar_mdl_sm = ARIMA(trend_mdl_sm.resid, order=(2, 0, 0), trend='n').fit()\n\npred_ltp_sm = ar_mdl_sm.forecast(steps=len(test_boston_ts)) + trend_mdl_sm.predict(sm.add_constant(test_t_series))\nprint(\"Long-term MSE =\", np.mean((pred_ltp_sm - test_boston_ts)**2))\nprint(pred_ltp_sm - test_boston_ts)",
      "metadata": {
        "id": "0_I9qUDyKfff",
        "colab": {
          "base_uri": "https://localhost:8080/"
        },
        "outputId": "5981c5d8-d88d-4b98-e942-43e7d5ef9210",
        "trusted": true
      },
      "outputs": [
        {
          "name": "stdout",
          "text": "Long-term MSE = 88002761.70669134\n2018-01-31     -738.214093\n2018-02-28    -1588.079525\n2018-03-31    -3559.371309\n2018-04-30    -4843.326335\n2018-05-31    -6144.750880\n2018-06-30    -7100.112400\n2018-07-31    -7779.616525\n2018-08-31    -8310.270195\n2018-09-30    -8438.931892\n2018-10-31    -9333.349908\n2018-11-30    -9872.189608\n2018-12-31   -10825.050616\n2019-01-31   -11765.474848\n2019-02-28   -12245.946275\n2019-03-31   -11528.883290\n2019-04-30   -10351.624504\n2019-05-31    -9449.408782\n2019-06-30    -9570.350261\n2019-07-31    -9357.409081\n2019-08-31    -9712.358511\n2019-09-30   -10694.749094\n2019-10-31   -11690.870413\n2019-11-30   -12516.711029\n2019-12-31   -13534.917093\nFreq: ME, dtype: float64\n",
          "output_type": "stream"
        }
      ],
      "execution_count": 45
    },
    {
      "cell_type": "code",
      "source": "6144.750836 ** 2",
      "metadata": {
        "id": "gwjj5pq-R63c",
        "colab": {
          "base_uri": "https://localhost:8080/"
        },
        "outputId": "e528b105-79af-4d4c-c27f-63e01107fb3e",
        "trusted": true
      },
      "outputs": [
        {
          "execution_count": 46,
          "output_type": "execute_result",
          "data": {
            "text/plain": "37757962.8365227"
          },
          "metadata": {}
        }
      ],
      "execution_count": 46
    },
    {
      "cell_type": "markdown",
      "source": "#### Sklearn-check:",
      "metadata": {
        "id": "-4TwwheeKYex"
      }
    },
    {
      "cell_type": "code",
      "source": "# from sklearn.linear_model import LinearRegression\n# from statsmodels.tsa.arima.model import ARIMA\n\n# train_start_time = pd.to_datetime('2010-01-01')\n# train_end_time = pd.to_datetime('2017-12-31')\n# test_start_time = pd.to_datetime('2018-01-01')\n# test_end_time = pd.to_datetime('2019-12-31')\n\n# train_boston_ts = zillow_df.loc[train_start_time: train_end_time, 'Boston, MA']\n# test_boston_ts = zillow_df.loc[test_start_time: test_end_time, 'Boston, MA']\n# train_t_seris = np.arange(len(train_boston_ts))\n# test_t_series = np.arange(len(train_boston_ts), len(train_boston_ts) + len(test_boston_ts))\n\n# trend_mdl_sk = LinearRegression().fit(train_t_seris.reshape(-1, 1), train_boston_ts)\n# resid_sk = train_boston_ts - trend_mdl.predict(train_t_seris.reshape(-1, 1))\n# ar_mdl_sk = ARIMA(resid_sk, order=(2, 0, 0), trend='n').fit()\n\n# pred_ltp_sk = ar_mdl_sk.forecast(steps=len(test_boston_ts)) + trend_mdl_sk.predict(test_t_series.reshape(-1, 1))\n# print(\"** Long-term MSE=\", np.mean((pred_ltp_sk - test_boston_ts)**2))\n# print(pred_ltp_sk - test_boston_ts)",
      "metadata": {
        "id": "_0zpYQjXGikt",
        "trusted": true
      },
      "outputs": [],
      "execution_count": 47
    },
    {
      "cell_type": "markdown",
      "source": "#### Short-Term Forecasting.",
      "metadata": {
        "id": "gE4S4HAGxlrd"
      }
    },
    {
      "cell_type": "code",
      "source": "test_dates = pd.date_range(start=test_start_time, end=test_end_time, freq='M')\ntrend_mdl = sm.OLS(train_boston_ts, sm.add_constant(train_t_series)).fit()\ntrain_trend = trend_mdl.predict(sm.add_constant(train_t_series))\ntest_trend = trend_mdl.predict(sm.add_constant(test_t_series))\nall_trend = np.concatenate([train_trend, test_trend])\nall_trend = pd.Series(all_trend, index=pd.date_range(start=train_start_time, end=test_end_time, freq='M'))\nprint(all_trend.head())",
      "metadata": {
        "id": "vPqy-lGwbrAG",
        "colab": {
          "base_uri": "https://localhost:8080/"
        },
        "outputId": "cc08aa3e-a5cb-47ba-a918-159c91de88c3",
        "trusted": true
      },
      "outputs": [
        {
          "name": "stdout",
          "text": "2010-01-31    321782.489905\n2010-02-28    323051.527399\n2010-03-31    324320.564892\n2010-04-30    325589.602385\n2010-05-31    326858.639878\nFreq: ME, dtype: float64\n",
          "output_type": "stream"
        }
      ],
      "execution_count": 48
    },
    {
      "cell_type": "code",
      "source": "all_dates = pd.date_range(start=train_start_time, end=test_end_time, freq='M')\nall_boston_ts = zillow_df.loc[train_start_time: test_end_time, 'Boston, MA']\npred_stp = []\n\nfor date in test_dates.shift(-1, freq='M'):\n  resid = all_boston_ts[:date] - all_trend[:date]\n  ar_mdl = ARIMA(resid, order=(2, 0, 0), trend='n').fit()\n  pred_stp.append(ar_mdl.forecast(steps=1))\n\npred_stp = pd.concat(pred_stp)\nprint(\"Short-term MSE =\", np.mean((pred_stp + test_trend - test_boston_ts)**2))\nprint(pred_stp + test_trend - test_boston_ts)",
      "metadata": {
        "id": "XVG0AFz-SbHg",
        "colab": {
          "base_uri": "https://localhost:8080/"
        },
        "outputId": "9e8a2cce-5c32-4e97-d2de-154b072cb6bd",
        "trusted": true
      },
      "outputs": [
        {
          "name": "stdout",
          "text": "Short-term MSE = 297840.2618281239\n2018-01-31    -738.214093\n2018-02-28    -181.043823\n2018-03-31   -1204.318438\n2018-04-30     504.506257\n2018-05-31    -154.103091\n2018-06-30     203.008047\n2018-07-31     156.242184\n2018-08-31      47.932047\n2018-09-30     310.583771\n2018-10-31    -827.963914\n2018-11-30     233.727268\n2018-12-31    -509.369523\n2019-01-31    -120.023084\n2019-02-28     324.995927\n2019-03-31    1098.947792\n2019-04-30     455.632237\n2019-05-31    -246.466040\n2019-06-30   -1004.090256\n2019-07-31     276.130339\n2019-08-31    -594.697539\n2019-09-30    -708.623553\n2019-10-31    -164.423098\n2019-11-30      11.988467\n2019-12-31    -338.055813\nFreq: ME, dtype: float64\n",
          "output_type": "stream"
        }
      ],
      "execution_count": 51
    },
    {
      "cell_type": "code",
      "source": "154.102921 ** 2",
      "metadata": {
        "colab": {
          "base_uri": "https://localhost:8080/"
        },
        "id": "sojH8Y58kRIB",
        "outputId": "ad6a67ec-41fb-457d-aad4-3762dddb175c",
        "trusted": true
      },
      "outputs": [
        {
          "execution_count": 52,
          "output_type": "execute_result",
          "data": {
            "text/plain": "23747.710260732245"
          },
          "metadata": {}
        }
      ],
      "execution_count": 52
    },
    {
      "cell_type": "markdown",
      "source": "#### **3.1 Calibration of ARX(p)**",
      "metadata": {
        "id": "lgSf2fyDOEp7"
      }
    },
    {
      "cell_type": "code",
      "source": "resid = train_boston_ts - train_trend\ninterest_series_m = interest_series.resample(rule='M').mean()\ntrain_interest_series = interest_series_m.loc[train_start_time: train_end_time]\ntest_interest_series = interest_series_m.loc[test_start_time: test_end_time]\nall_interest_series = pd.concat([train_interest_series, test_interest_series])\nall_interest_series_ = all_interest_series.shift(1, freq='M')\n# shift to read the next month data for one-step forecasting",
      "metadata": {
        "id": "1Uls8oWwwfd6",
        "trusted": true
      },
      "outputs": [],
      "execution_count": 54
    },
    {
      "cell_type": "code",
      "source": "for p in [1, 2, 3, 4, 5]:\n  ar_mdl = ARIMA(resid, exog=train_interest_series, order=(p, 0, 0), trend='n').fit()\n  pred = ar_mdl.predict() + train_trend\n  print(\"p=\", p, \", Train MSE=\", np.mean((pred - train_boston_ts)**2))",
      "metadata": {
        "colab": {
          "base_uri": "https://localhost:8080/"
        },
        "id": "g_0RZVVpvknT",
        "outputId": "beff4776-630f-42dc-caa5-976b18e2857c",
        "trusted": true
      },
      "outputs": [
        {
          "name": "stdout",
          "text": "p= 1 , Train MSE= 6093778.3290172\np= 2 , Train MSE= 9276633.600954272\np= 3 , Train MSE= 9274427.264404258\np= 4 , Train MSE= 9268666.118606595\np= 5 , Train MSE= 9516825.192460034\n",
          "output_type": "stream"
        }
      ],
      "execution_count": 55
    },
    {
      "cell_type": "markdown",
      "source": "#### From the above result, ARX(p=1) achieves the best in-sample MSE.",
      "metadata": {
        "id": "hAvSoliTynmv"
      }
    },
    {
      "cell_type": "code",
      "source": "for p in [1, 2, 3, 4, 5]:\n  pred_arx = []\n  for date in test_dates.shift(-1, freq='M'):\n    resid = all_boston_ts[:date] - all_trend[:date]\n    ar_mdl = ARIMA(resid, exog=all_interest_series[:date],\n                  order=(p, 0, 0), trend='n').fit()\n    pred_arx.append(ar_mdl.forecast(steps=1, exog=all_interest_series_[date]))  # see the exog!\n  pred_arx = pd.concat(pred_arx)\n  print(\"p=\", p, \", Test MSE=\", np.mean((pred_arx + test_trend - test_boston_ts)**2))",
      "metadata": {
        "colab": {
          "base_uri": "https://localhost:8080/"
        },
        "id": "GLpkQZRfuprS",
        "outputId": "a8fddf2c-9f6f-40f5-9e85-ff29d221230d",
        "trusted": true
      },
      "outputs": [
        {
          "name": "stdout",
          "text": "p= 1 , Test MSE= 1577156.3192882724\np= 2 , Test MSE= 306700.9873079034\np= 3 , Test MSE= 322279.92098048615\np= 4 , Test MSE= 293661.58562644664\np= 5 , Test MSE= 347901.67214659654\n",
          "output_type": "stream"
        }
      ],
      "execution_count": 56
    },
    {
      "cell_type": "markdown",
      "source": "#### From the above result, ARX(p=2) achieves the best out-sample MSE.",
      "metadata": {
        "id": "SwkPoA6K5zAH"
      }
    },
    {
      "cell_type": "markdown",
      "source": "#### Redo the AR(2) in the previous problem. The numbers can be found in the previous problem as well.",
      "metadata": {
        "id": "DSbLe-zu7Nc-"
      }
    },
    {
      "cell_type": "code",
      "source": "ar_mdl = ARIMA(train_boston_ts - train_trend, order=(2, 0, 0), trend='n').fit()\npred_ar = ar_mdl.predict() + train_trend\nprint(\"Train MSE for AR(2) = \", np.mean((ar_mdl.predict() + train_trend - train_boston_ts)**2))",
      "metadata": {
        "colab": {
          "base_uri": "https://localhost:8080/"
        },
        "id": "Vl46RiLJEAoI",
        "outputId": "01cb7530-07ee-4dcd-a6ea-f13bd873030c",
        "trusted": true
      },
      "outputs": [
        {
          "name": "stdout",
          "text": "Train MSE for AR(2) =  9942713.487420518\n",
          "output_type": "stream"
        }
      ],
      "execution_count": 57
    },
    {
      "cell_type": "code",
      "source": "pred_ar_seq = []\nfor date in test_dates.shift(-1, freq='M'):\n  resid = all_boston_ts[:date] - all_trend[:date]\n  ar_mdl = ARIMA(resid, order=(2, 0, 0), trend='n').fit()\n  pred_ar_seq.append(ar_mdl.forecast(steps=1))\n\npred_ar_seq = pd.concat(pred_ar_seq)\nprint(\"Test MSE for AR(2) = \", np.mean((pred_ar_seq + test_trend - test_boston_ts)**2))",
      "metadata": {
        "colab": {
          "base_uri": "https://localhost:8080/"
        },
        "id": "T5ezRtTm7MNc",
        "outputId": "36d66649-ba12-45ad-dabf-1c5275949353",
        "trusted": true
      },
      "outputs": [
        {
          "name": "stdout",
          "text": "Test MSE for AR(2) =  297840.2618281239\n",
          "output_type": "stream"
        }
      ],
      "execution_count": 58
    },
    {
      "cell_type": "markdown",
      "source": "#### We summary the performances in the following table:\n\n| Case   | Training | Test |\n| ------ | ---------| -----|\n| AR(2)  | 9942713.487492554 | 297840.25398327067 |\n| ARX(2) | 9276633.642987859 | 306684.79975431 |",
      "metadata": {
        "id": "uy0GprTHFMTg"
      }
    },
    {
      "cell_type": "markdown",
      "source": "#### **3.2 Calibration of ARMAX(p,q)**",
      "metadata": {
        "id": "4-vebuXBN-Kj"
      }
    },
    {
      "cell_type": "code",
      "source": "resid = train_boston_ts - train_trend\nfor p in [1, 2, 3, 4, 5]:\n  for q in [1, 5, 10, 15, 20]:\n    ar_mdl = ARIMA(resid, exog=train_interest_series, order=(p, q, 0), trend='n').fit()\n    pred = ar_mdl.predict() + train_trend\n    print(\"p=%d, q=%2d, Train MSE=%.0f\" %(p, q, np.mean((pred - train_boston_ts)**2)))",
      "metadata": {
        "colab": {
          "base_uri": "https://localhost:8080/"
        },
        "id": "UQFnOqM_Oo57",
        "outputId": "d068e8e6-9f5c-45ec-bbd9-d65ac37d143e",
        "trusted": true
      },
      "outputs": [
        {
          "name": "stdout",
          "text": "p=1, q= 1, Train MSE=2757014\np=1, q= 5, Train MSE=99899474\np=1, q=10, Train MSE=17998556576\np=1, q=15, Train MSE=9331720947061\np=1, q=20, Train MSE=2851439935007664\np=2, q= 1, Train MSE=5640830\np=2, q= 5, Train MSE=81679553\np=2, q=10, Train MSE=5841710272\np=2, q=15, Train MSE=1882950332395\np=2, q=20, Train MSE=457466533993917\np=3, q= 1, Train MSE=5637640\np=3, q= 5, Train MSE=81162486\np=3, q=10, Train MSE=4616486601\np=3, q=15, Train MSE=531172536742\np=3, q=20, Train MSE=98748458278530\np=4, q= 1, Train MSE=5571013\np=4, q= 5, Train MSE=79434721\np=4, q=10, Train MSE=4794604747\np=4, q=15, Train MSE=402963325190\np=4, q=20, Train MSE=34794564235789\np=5, q= 1, Train MSE=5542578\np=5, q= 5, Train MSE=78752889\np=5, q=10, Train MSE=3103444581\np=5, q=15, Train MSE=220340596051\np=5, q=20, Train MSE=21028802581655\n",
          "output_type": "stream"
        }
      ],
      "execution_count": 59
    },
    {
      "cell_type": "markdown",
      "source": "#### The best in-sample performance happens when $p=q=1$.",
      "metadata": {
        "id": "gmHyDz4vPorJ"
      }
    },
    {
      "cell_type": "code",
      "source": "for p in [1, 2, 3, 4, 5]:\n  for q in [1, 5, 10]:\n    pred_arx = []\n    for date in test_dates.shift(-1, freq='M'):\n      resid = all_boston_ts[:date] - all_trend[:date]\n      ar_mdl = ARIMA(resid, exog=all_interest_series[:date],\n                    order=(p, q, 0), trend='n').fit()\n      pred_arx.append(ar_mdl.forecast(steps=1, exog=all_interest_series_[date]))  # see the exog!\n    pred_arx = pd.concat(pred_arx)\n    print(\"p=%d, q=%2d, Test MSE=%.0f\" %(p, q, np.mean((pred_arx + test_trend - test_boston_ts)**2)))",
      "metadata": {
        "colab": {
          "base_uri": "https://localhost:8080/"
        },
        "id": "P4kX0VEcP-tm",
        "outputId": "21f5938b-60b9-4a4a-de1d-f898ba331181",
        "trusted": true
      },
      "outputs": [
        {
          "name": "stdout",
          "text": "p=1, q= 1, Test MSE=944399\np=1, q= 5, Test MSE=2277263\np=1, q=10, Test MSE=686607147\np=2, q= 1, Test MSE=806019\np=2, q= 5, Test MSE=1942731\np=2, q=10, Test MSE=193587196\np=3, q= 1, Test MSE=802595\np=3, q= 5, Test MSE=1434508\n",
          "output_type": "stream"
        }
      ],
      "execution_count": null
    },
    {
      "cell_type": "markdown",
      "source": "#### The best out-sample performance happens when $p=4, q=1$.",
      "metadata": {
        "id": "5r9H1Gx0RC24"
      }
    },
    {
      "cell_type": "code",
      "source": "# train_start_time = pd.to_datetime('2010-01-01')\n# train_end_time = pd.to_datetime('2019-12-31')\n# test_start_time = pd.to_datetime('2020-01-01')\n# test_end_time = pd.to_datetime('2021-12-31')\n\ntrain_start_time = pd.to_datetime('2010-01-01')\ntrain_end_time = pd.to_datetime('2017-12-31')\ntest_start_time = pd.to_datetime('2018-01-01')\ntest_end_time = pd.to_datetime('2019-12-31')\n\ntest_dates = pd.date_range(start=test_start_time, end=test_end_time, freq='M')",
      "metadata": {
        "id": "SgyWHMnrU8zQ",
        "trusted": true
      },
      "outputs": [],
      "execution_count": null
    },
    {
      "cell_type": "code",
      "source": "train_boston_ts = zillow_df.loc[train_start_time: train_end_time, 'Boston, MA']\ntest_boston_ts = zillow_df.loc[test_start_time: test_end_time, 'Boston, MA']\nall_boston_st = pd.concat([train_boston_ts, test_boston_ts])\ntrain_t_series = np.arange(len(train_boston_ts))\ntest_t_series = np.arange(len(train_boston_ts), len(train_boston_ts) + len(test_boston_ts))\nall_t_series = np.concatenate([train_t_series, test_t_series])\ninterest_series_m = interest_series.resample(rule='M').mean()\ntrain_interest_series = interest_series_m.loc[train_start_time: train_end_time]\ntest_interest_series = interest_series_m.loc[test_start_time: test_end_time]\nall_interest_series = pd.concat([train_interest_series, test_interest_series])\nall_interest_series_ = all_interest_series.shift(1, freq='M')\n\ntrend_mdl = sm.OLS(train_boston_ts, sm.add_constant(train_t_series)).fit()\ntrain_trend = trend_mdl.predict(sm.add_constant(train_t_series))\ntest_trend = trend_mdl.predict(sm.add_constant(test_t_series))\nall_trend = np.concatenate([train_trend, test_trend])\nall_trend = pd.Series(all_trend, index=pd.date_range(start=train_start_time, end=test_end_time, freq='M'))\n\nresid = train_boston_ts - train_trend",
      "metadata": {
        "id": "QAWx898HWJ6W",
        "trusted": true
      },
      "outputs": [],
      "execution_count": null
    },
    {
      "cell_type": "code",
      "source": "# AR(2) - Training\nar2_mdl = ARIMA(resid, order=(2, 0, 0), trend='n').fit()  # AR(2)\nprint(\"AR(2) + Training MSE = \", np.mean((ar2_mdl.predict() + train_trend - train_boston_ts)**2))\n\n# AR(2) - Test\npred_ar = []\nfor date in test_dates.shift(-1, freq='M'):\n  res = all_boston_ts[:date] - all_trend[:date]\n  arx2_mdl = ARIMA(res, order=(2, 0, 0), trend='n').fit()\n  pred_ar.append(arx2_mdl.forecast(steps=1))\npred_ar = pd.concat(pred_ar)\n# print(pred_ar)\nprint(\"AR(2) + Test MSE = \", np.mean((pred_ar + test_trend - test_boston_ts)**2))",
      "metadata": {
        "colab": {
          "base_uri": "https://localhost:8080/"
        },
        "id": "e4HufSViaOD5",
        "outputId": "9f09acc5-64e9-4f73-e3fc-7969d968b5af",
        "trusted": true
      },
      "outputs": [],
      "execution_count": null
    },
    {
      "cell_type": "code",
      "source": "# ARX(2) - Training\narx2_mdl = ARIMA(resid, exog=train_interest_series, order=(2, 0, 0), trend='n').fit()  # ARX(2)\nprint(\"ARX(2) + Train MSE = \", np.mean((arx2_mdl.predict() + train_trend - train_boston_ts)**2))\n\n# ARX(2) - Test\npred_arx = []\nfor date in test_dates.shift(-1, freq='M'):\n  res = all_boston_ts[:date] - all_trend[:date]\n  arx2_mdl = ARIMA(res, exog=all_interest_series[:date], order=(2, 0, 0), trend='n').fit()\n  pred_arx.append(arx2_mdl.forecast(steps=1, exog=all_interest_series_[date]))  # see the exog!\npred_arx = pd.concat(pred_arx)\n# print(pred_arx)\nprint(\"ARX(2) + Test MSE = \", np.mean((pred_arx + test_trend - test_boston_ts)**2))",
      "metadata": {
        "colab": {
          "base_uri": "https://localhost:8080/"
        },
        "id": "pJrCpF0MX2Ot",
        "outputId": "da76cbf5-8763-4cf3-d506-1b1a60094209",
        "trusted": true
      },
      "outputs": [],
      "execution_count": null
    },
    {
      "cell_type": "markdown",
      "source": "#### A quick summary of the scanning result:\n\nAR(2):\n\n|MSE  | Old Data | New Data |\n|-----|----------|----------|\n|Train| 9,942,713 | 11,587,011 |\n|Test | 297,840   | 2,162,643,962 |\n\nARX(2):\n\n|MSE  | Old Data | New Data |\n|-----|----------|----------|\n|Train| 9,276,633 | 11,664,707 |\n|Test | 306,684   | 2,165,327,950 |",
      "metadata": {
        "id": "xqAphykoewsf"
      }
    },
    {
      "cell_type": "markdown",
      "source": "&nbsp;",
      "metadata": {
        "id": "CmDKv701OJYQ"
      }
    }
  ]
}