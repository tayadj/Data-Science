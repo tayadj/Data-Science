{
 "cells": [
  {
   "cell_type": "markdown",
   "id": "3a80b6be-0679-45ea-843c-97fec20e529e",
   "metadata": {},
   "source": [
    "### Source of data\n",
    "##### Golub et al. (1999). Molecular classification of cancer: class discovery and class prediction by gene expression monitoring, Science, Vol. 286:531-537."
   ]
  },
  {
   "cell_type": "code",
   "execution_count": 2,
   "id": "8ccc3eb9-e8d5-4711-8f8d-e77298767e11",
   "metadata": {},
   "outputs": [],
   "source": [
    "import matplotlib.pyplot\n",
    "import pandas\n",
    "import numpy"
   ]
  },
  {
   "cell_type": "code",
   "execution_count": 9,
   "id": "1f4c1406-83de-432e-979d-02180d02a19c",
   "metadata": {},
   "outputs": [],
   "source": [
    "data = pandas.read_csv('./data/data.csv').drop('Unnamed: 0', axis = 1)\n",
    "data_class = pandas.read_csv('./data/data_class.csv').drop('Unnamed: 0', axis = 1)"
   ]
  },
  {
   "cell_type": "code",
   "execution_count": 38,
   "id": "456c1e9a-66e5-4763-acf4-a8e048e9d357",
   "metadata": {},
   "outputs": [],
   "source": [
    "ALL_data = data.loc[:,list(data_class['x'] == 0)]\n",
    "AML_data = data.loc[:,list(data_class['x'] == 1)]"
   ]
  },
  {
   "cell_type": "code",
   "execution_count": 52,
   "id": "f6a019ad-7cf5-43f7-a301-770a06ea83de",
   "metadata": {},
   "outputs": [],
   "source": [
    "ALL_mean = numpy.mean(ALL_data, axis = 1)\n",
    "AML_mean = numpy.mean(AML_data, axis = 1)\n",
    "\n",
    "ALL_var = numpy.var(ALL_data, axis = 1, ddof = 1)\n",
    "AML_var = numpy.var(AML_data, axis = 1, ddof = 1)\n",
    "\n",
    "ALL_count = ALL_data.shape[1]\n",
    "AML_count = AML_data.shape[1]\n",
    "\n",
    "ALL_S = ALL_var / ALL_count\n",
    "AML_S = AML_var / AML_count"
   ]
  },
  {
   "cell_type": "code",
   "execution_count": 98,
   "id": "5e23d1b8-7e4f-4091-80ad-07b220af0eac",
   "metadata": {},
   "outputs": [
    {
     "name": "stdout",
     "output_type": "stream",
     "text": [
      "Number of significant genes (p-value): 1142\n",
      "Number of significant genes (rejection): 1142\n"
     ]
    }
   ],
   "source": [
    "from scipy.stats import t\n",
    "\n",
    "delta_mean = numpy.abs(ALL_mean - AML_mean)\n",
    "delta_S = ALL_S + AML_S\n",
    "\n",
    "t_welch = delta_mean / (ALL_var / ALL_count + AML_var / AML_count) ** 0.5\n",
    "t_welch_ddof = ((ALL_var / ALL_count + AML_var / AML_count) ** 2) / ((ALL_var / ALL_count) ** 2 / (ALL_count - 1) + (AML_var / ALL_count) ** 2 / (AML_count - 1))\n",
    "t_welch_ddof = numpy.round(t_welch_ddof)\n",
    "\n",
    "significance = 0.05\n",
    "reject_region = t.ppf(1 - significance/2, t_welch_ddof)\n",
    "p_value = t.sf(t_welch, t_welch_ddof)\n",
    "\n",
    "print(f'Number of significant genes (p-value): {len(p_value[p_value <= significance / 2])}')\n",
    "print(f'Number of significant genes (rejection): {len(t_welch[t_welch >= reject_region])}')"
   ]
  },
  {
   "cell_type": "code",
   "execution_count": 100,
   "id": "053362be-e26f-45f8-8630-e0a4271ec4a2",
   "metadata": {},
   "outputs": [
    {
     "name": "stdout",
     "output_type": "stream",
     "text": [
      "Number of significant genes (scipy): 1149\n"
     ]
    }
   ],
   "source": [
    "from scipy.stats import ttest_ind\n",
    "\n",
    "t_welch, p_value = ttest_ind(ALL_data, AML_data, axis=1, equal_var=False)\n",
    "significant_genes = numpy.concatenate((p_value[p_value <= significance], p_value[p_value >= 1 - significance]))\n",
    "print(f'Number of significant genes (scipy): {len(significant_genes)}')"
   ]
  },
  {
   "cell_type": "code",
   "execution_count": 102,
   "id": "aab74a63-79c3-46e8-887b-74f1d1be18f2",
   "metadata": {},
   "outputs": [
    {
     "name": "stdout",
     "output_type": "stream",
     "text": [
      "Number of significant genes (Holm-Bonferroni correction): 103\n",
      "Number of significant genes (Benjamini-Hochberg correction): 695\n"
     ]
    }
   ],
   "source": [
    "from statsmodels.stats.multitest import multipletests\n",
    "\n",
    "HM_correction = multipletests(p_value, alpha=significance, method='holm')\n",
    "significant_HM_p_values = t_welch[HM_correction[0]]\n",
    "print(f'Number of significant genes (Holm-Bonferroni correction): {len(significant_HM_p_values)}')\n",
    "\n",
    "BH_correction = multipletests(p_value, alpha=significance, method='fdr_bh')\n",
    "significant_BH_p_values = t_welch[BH_correction[0]]\n",
    "print(f'Number of significant genes (Benjamini-Hochberg correction): {len(significant_BH_p_values)}')"
   ]
  },
  {
   "cell_type": "code",
   "execution_count": null,
   "id": "40f4f907-1db7-4032-849e-80da15d389ab",
   "metadata": {},
   "outputs": [],
   "source": []
  }
 ],
 "metadata": {
  "kernelspec": {
   "display_name": "Python 3 (ipykernel)",
   "language": "python",
   "name": "python3"
  },
  "language_info": {
   "codemirror_mode": {
    "name": "ipython",
    "version": 3
   },
   "file_extension": ".py",
   "mimetype": "text/x-python",
   "name": "python",
   "nbconvert_exporter": "python",
   "pygments_lexer": "ipython3",
   "version": "3.12.6"
  }
 },
 "nbformat": 4,
 "nbformat_minor": 5
}
