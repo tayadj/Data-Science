{
  "metadata": {
    "kernelspec": {
      "name": "python",
      "display_name": "Python (Pyodide)",
      "language": "python"
    },
    "language_info": {
      "codemirror_mode": {
        "name": "python",
        "version": 3
      },
      "file_extension": ".py",
      "mimetype": "text/x-python",
      "name": "python",
      "nbconvert_exporter": "python",
      "pygments_lexer": "ipython3",
      "version": "3.8"
    }
  },
  "nbformat_minor": 4,
  "nbformat": 4,
  "cells": [
    {
      "cell_type": "markdown",
      "source": "# Imputation\n\n### Goal: impute the 3'rd element of y.",
      "metadata": {}
    },
    {
      "cell_type": "code",
      "source": "import numpy as np\ny = np.array([3.64973815,  2.99549717,  0, 2.9468194, 3.63628318, 2.20029144, \n              3.58499797, 2.30541867, 2.44001707,  1.91864557, 2.33640267, 0.71044036, \n              1.25885197,  1.175712,    1.82684075,  1.090066, 1.73614439,  1.84846206,\n              2.72661025,  3.56022295, 3.59882147,  5.28710702,  6.03863768,  6.76454015,\n              7.82283933,  8.07749541,  9.15639392,  9.62977085, 10.6195424,  11.56870074, \n              11.60384656, 12.13092488, 12.30468568, 12.41261552, 12.53969402, 12.75664092])",
      "metadata": {
        "trusted": true
      },
      "outputs": [],
      "execution_count": 49
    },
    {
      "cell_type": "code",
      "source": "print(\"Observation length:\", len(y))\nprint(\"Observation summary:\", y.sum())",
      "metadata": {
        "trusted": true
      },
      "outputs": [
        {
          "name": "stdout",
          "text": "Observation length: 36\nObservation summary: 196.25971857000002\n",
          "output_type": "stream"
        }
      ],
      "execution_count": 50
    },
    {
      "cell_type": "markdown",
      "source": "### For the best prediction model assume L = 6 for square page matrix P(y,L).",
      "metadata": {}
    },
    {
      "cell_type": "code",
      "source": "L = 6\nP = np.array([y[L*i:L*(i+1)] for i in range (0, L)]).T\nU, S, V = np.linalg.svd(P, full_matrices=False)\nprint('Page matrix and its SVD-decomposition:\\n')\nprint(P, '\\n\\n', U, '\\n\\n', np.diag(S), '\\n\\n', V)\n",
      "metadata": {
        "trusted": true
      },
      "outputs": [
        {
          "name": "stdout",
          "text": "Page matrix and its SVD-decomposition:\n\n[[ 3.64973815  3.58499797  1.25885197  2.72661025  7.82283933 11.60384656]\n [ 2.99549717  2.30541867  1.175712    3.56022295  8.07749541 12.13092488]\n [ 0.          2.44001707  1.82684075  3.59882147  9.15639392 12.30468568]\n [ 2.9468194   1.91864557  1.090066    5.28710702  9.62977085 12.41261552]\n [ 3.63628318  2.33640267  1.73614439  6.03863768 10.6195424  12.53969402]\n [ 2.20029144  0.71044036  1.84846206  6.76454015 11.56870074 12.75664092]] \n\n [[-0.36567663  0.66124833  0.17931665 -0.30769076 -0.29185838  0.46585605]\n [-0.37787482  0.3396218   0.04742714  0.65560428 -0.22892235 -0.507342  ]\n [-0.38695874  0.04875619 -0.88434158 -0.20326974  0.13205386 -0.08407692]\n [-0.41518916 -0.07069521  0.17169039  0.33851648  0.72696809  0.38738424]\n [-0.44195048 -0.1501345   0.39119417 -0.55523641  0.18451268 -0.53551295]\n [-0.45392938 -0.64613646  0.03202663  0.10634827 -0.53145789  0.28578425]] \n\n [[40.85517291  0.          0.          0.          0.          0.        ]\n [ 0.          4.11845699  0.          0.          0.          0.        ]\n [ 0.          0.          3.09073161  0.          0.          0.        ]\n [ 0.          0.          0.          0.98253115  0.          0.        ]\n [ 0.          0.          0.          0.          0.42966658  0.        ]\n [ 0.          0.          0.          0.          0.          0.21602744]] \n\n [[-0.15410211 -0.12918708 -0.0898408  -0.28563148 -0.57272845 -0.73613086]\n [ 0.30467073  0.56503084 -0.0513045  -0.59819403 -0.33690623  0.33755273]\n [ 0.90445511 -0.04512399 -0.13218036  0.31120824 -0.04315262 -0.25246863]\n [ 0.05436707 -0.67154984 -0.39312879 -0.08151234 -0.38553673  0.48603699]\n [-0.24931229  0.45724053 -0.61654269  0.52862997 -0.259374    0.04387559]\n [ 0.01663845 -0.0443463  -0.66117297 -0.42146658  0.58369575 -0.20560173]]\n",
          "output_type": "stream"
        }
      ],
      "execution_count": 51
    },
    {
      "cell_type": "markdown",
      "source": "### Calculate r-value, minimum at which the next formula > 0.9",
      "metadata": {}
    },
    {
      "cell_type": "code",
      "source": "print([(S[:r]*S[:r]).sum()/(S*S).sum() for r in range (1,L+1)])",
      "metadata": {
        "trusted": true
      },
      "outputs": [
        {
          "name": "stdout",
          "text": "[0.9836692348865267, 0.9936651843823147, 0.9992947848191771, 0.999863700154724, 0.9999724974593821, 1.0]\n",
          "output_type": "stream"
        }
      ],
      "execution_count": 52
    },
    {
      "cell_type": "code",
      "source": "r = 1\nS_hat = S[:r]\nS_hat = np.append(S_hat, [0] * (L-r))\nprint(np.diag(S_hat))",
      "metadata": {
        "trusted": true
      },
      "outputs": [
        {
          "name": "stdout",
          "text": "[[40.85517291  0.          0.          0.          0.          0.        ]\n [ 0.          0.          0.          0.          0.          0.        ]\n [ 0.          0.          0.          0.          0.          0.        ]\n [ 0.          0.          0.          0.          0.          0.        ]\n [ 0.          0.          0.          0.          0.          0.        ]\n [ 0.          0.          0.          0.          0.          0.        ]]\n",
          "output_type": "stream"
        }
      ],
      "execution_count": 53
    },
    {
      "cell_type": "markdown",
      "source": "### Set P = 35/36 as we need to impute only one value",
      "metadata": {}
    },
    {
      "cell_type": "code",
      "source": "P = (len(y)-1)/len(y)\nprint(np.dot(U, np.dot(np.diag(S_hat),V))*(1/P))",
      "metadata": {
        "trusted": true
      },
      "outputs": [
        {
          "name": "stdout",
          "text": "[[ 2.36803058  1.98517043  1.38055058  4.38919413  8.80090786 11.31185273]\n [ 2.44702299  2.05139145  1.42660279  4.53560822  9.09448724 11.68919184]\n [ 2.50584823  2.1007059   1.46089762  4.64464203  9.31311428 11.97019431]\n [ 2.68866138  2.25396205  1.56747681  4.98349001  9.99254876 12.84347499]\n [ 2.86196101  2.39924282  1.66850968  5.3047045  10.63662579 13.67131055]\n [ 2.93953336  2.46427337  1.71373399  5.44848646 10.92492743 14.04186615]]\n",
          "output_type": "stream"
        }
      ],
      "execution_count": 54
    },
    {
      "cell_type": "markdown",
      "source": "# Forecasting\n### Goal: forecast the next 3 elements of y",
      "metadata": {}
    },
    {
      "cell_type": "code",
      "source": "import numpy as np\ny = np.array([2.9468194, 3.63628318, 2.20029144, 3.58499797, 2.30541867, 2.44001707, \n              1.91864557, 2.33640267, 0.71044036, 1.25885197,  1.175712, 1.82684075, \n              1.090066, 1.73614439, 1.84846206, 2.72661025,  3.56022295, 3.59882147, \n              5.28710702,  6.03863768,  6.76454015, 7.82283933,  8.07749541,  9.15639392, \n              9.62977085, 10.6195424,  11.56870074, 11.60384656, 12.13092488, 12.30468568,\n              12.41261552, 12.53969402, 12.75664092, 0, 0, 0])",
      "metadata": {
        "trusted": true
      },
      "outputs": [],
      "execution_count": 55
    },
    {
      "cell_type": "code",
      "source": "print(\"Observation length:\", len(y))\nprint(\"Observation summary:\", y.sum())",
      "metadata": {
        "trusted": true
      },
      "outputs": [
        {
          "name": "stdout",
          "text": "Observation length: 36\nObservation summary: 189.61448325\n",
          "output_type": "stream"
        }
      ],
      "execution_count": 56
    },
    {
      "cell_type": "markdown",
      "source": "### For the best prediction model assume L = 6 for square page matrix P(y,L).",
      "metadata": {}
    },
    {
      "cell_type": "code",
      "source": "L = 6\nP = np.array([y[L*i:L*(i+1)] for i in range (0, L)]).T\nU, S, V = np.linalg.svd(P, full_matrices=False)\nprint('Page matrix and its SVD-decomposition:\\n')\nprint(P, '\\n\\n', U, '\\n\\n', np.diag(S), '\\n\\n', V)\n",
      "metadata": {
        "trusted": true
      },
      "outputs": [
        {
          "name": "stdout",
          "text": "Page matrix and its SVD-decomposition:\n\n[[ 2.9468194   1.91864557  1.090066    5.28710702  9.62977085 12.41261552]\n [ 3.63628318  2.33640267  1.73614439  6.03863768 10.6195424  12.53969402]\n [ 2.20029144  0.71044036  1.84846206  6.76454015 11.56870074 12.75664092]\n [ 3.58499797  1.25885197  2.72661025  7.82283933 11.60384656  0.        ]\n [ 2.30541867  1.175712    3.56022295  8.07749541 12.13092488  0.        ]\n [ 2.44001707  1.82684075  3.59882147  9.15639392 12.30468568  0.        ]] \n\n [[-0.41912369 -0.39244973  0.23415354  0.07122461  0.07275833 -0.77789713]\n [-0.45566525 -0.35597249  0.4688456   0.23139737 -0.27762037  0.56144346]\n [-0.47439235 -0.3376221  -0.70140117 -0.29154441  0.20278501  0.20707413]\n [-0.34812119  0.42516057  0.40759339 -0.67299943  0.27460987  0.05982431]\n [-0.35819394  0.4475536  -0.24342196 -0.00609397 -0.76187715 -0.17788957]\n [-0.37704793  0.4735107  -0.08947459  0.63515258  0.46972761  0.03942022]] \n\n [[37.81617258  0.          0.          0.          0.          0.        ]\n [ 0.         15.46614269  0.          0.          0.          0.        ]\n [ 0.          0.          1.95391771  0.          0.          0.        ]\n [ 0.          0.          0.          1.06873897  0.          0.        ]\n [ 0.          0.          0.          0.          0.51656834  0.        ]\n [ 0.          0.          0.          0.          0.          0.26683704]] \n\n [[-0.18324476 -0.09926883 -0.15089414 -0.45603771 -0.7242232  -0.44869631]\n [ 0.0334673   0.00658921  0.18018848  0.30830923  0.30542989 -0.88205818]\n [ 0.78472545  0.56799518 -0.15588078 -0.13943254 -0.10479909 -0.0828514 ]\n [-0.43709256  0.72620024  0.34579789  0.28393266 -0.27839725  0.06232444]\n [ 0.04889753 -0.1101621  -0.58282684  0.726255   -0.34359292  0.01684636]\n [ 0.3950524  -0.35774471  0.67911777  0.26357071 -0.41912928  0.09804337]]\n",
          "output_type": "stream"
        }
      ],
      "execution_count": 57
    },
    {
      "cell_type": "markdown",
      "source": "### Calculate r-value, minimum at which the next formula > 0.9",
      "metadata": {}
    },
    {
      "cell_type": "code",
      "source": "print([(S[:r]*S[:r]).sum()/(S*S).sum() for r in range (1,L+1)])",
      "metadata": {
        "trusted": true
      },
      "outputs": [
        {
          "name": "stdout",
          "text": "[0.8539919476855975, 0.9968361633688743, 0.9991160390686421, 0.999798129453401, 0.9999574802339725, 1.0]\n",
          "output_type": "stream"
        }
      ],
      "execution_count": 58
    },
    {
      "cell_type": "code",
      "source": "r = 2\nS_hat = S[:r]\nS_hat = np.append(S_hat, [0] * (L-r))\nprint(np.diag(S_hat))",
      "metadata": {
        "trusted": true
      },
      "outputs": [
        {
          "name": "stdout",
          "text": "[[37.81617258  0.          0.          0.          0.          0.        ]\n [ 0.         15.46614269  0.          0.          0.          0.        ]\n [ 0.          0.          0.          0.          0.          0.        ]\n [ 0.          0.          0.          0.          0.          0.        ]\n [ 0.          0.          0.          0.          0.          0.        ]\n [ 0.          0.          0.          0.          0.          0.        ]]\n",
          "output_type": "stream"
        }
      ],
      "execution_count": 59
    },
    {
      "cell_type": "markdown",
      "source": "### Set P = 33/36 as we need to forecast three values",
      "metadata": {}
    },
    {
      "cell_type": "code",
      "source": "P = (len(y)-3)/len(y)\nprint(np.dot(U, np.dot(np.diag(S_hat),V))*(1/P))",
      "metadata": {
        "trusted": true
      },
      "outputs": [
        {
          "name": "stdout",
          "text": "[[ 2.90143735  2.10330966  1.46253121  4.64096358  9.31408753 11.97440166]\n [ 2.99450816  2.17077854  1.50944553  4.78983401  9.61286003 12.35851035]\n [ 3.14057971  2.27666872  1.583076    5.02348122 10.08177355 12.96135617]\n [ 3.28847204  2.38387881  1.65762428  5.26004084 10.55653206 13.57171645]\n [ 3.50275145  2.53921421  1.76563637  5.60278921 11.24440394 14.45606011]\n [ 3.59041254  2.60276148  1.80982381  5.74300659 11.52581036 14.81784257]]\n",
          "output_type": "stream"
        }
      ],
      "execution_count": 73
    },
    {
      "cell_type": "markdown",
      "source": "# Learning Stationary and Non-Stationary Components\n### Goal: forecast the next 3 elements of y",
      "metadata": {}
    },
    {
      "cell_type": "code",
      "source": "import numpy as np\ny = np.array([3.64973815, 2.99549717, 2.56877414, 2.9468194, 3.63628318, 2.20029144, \n              3.58499797,  2.30541867, 2.44001707, 1.91864557, 2.33640267, 0.71044036, \n              1.25885197, 1.175712, 1.82684075, 1.090066, 1.73614439, 1.84846206, \n              2.72661025,  3.56022295, 3.59882147, 5.28710702, 6.03863768, 6.76454015,\n              7.82283933,  8.07749541,  9.15639392, 9.62977085, 10.6195424, 11.56870074, \n              11.60384656, 12.13092488, 12.30468568, 12.41261552, 12.53969402, 12.75664092])",
      "metadata": {
        "trusted": true
      },
      "outputs": [],
      "execution_count": 65
    },
    {
      "cell_type": "code",
      "source": "print(\"Observation length:\", len(y))\nprint(\"Observation summary:\", y.sum())",
      "metadata": {
        "trusted": true
      },
      "outputs": [
        {
          "name": "stdout",
          "text": "Observation length: 36\nObservation summary: 198.82849271\n",
          "output_type": "stream"
        }
      ],
      "execution_count": 66
    },
    {
      "cell_type": "markdown",
      "source": "### For the best prediction model assume L = 6 for square page matrix P(y,L).",
      "metadata": {}
    },
    {
      "cell_type": "code",
      "source": "L = 6\nP = np.array([y[L*i:L*(i+1)] for i in range (0, L)]).T\nU, S, V = np.linalg.svd(P, full_matrices=False)\nprint('Page matrix and its SVD-decomposition:\\n')\nprint(P, '\\n\\n', U, '\\n\\n', np.diag(S), '\\n\\n', V)",
      "metadata": {
        "trusted": true
      },
      "outputs": [
        {
          "name": "stdout",
          "text": "Page matrix and its SVD-decomposition:\n\n[[ 3.64973815  3.58499797  1.25885197  2.72661025  7.82283933 11.60384656]\n [ 2.99549717  2.30541867  1.175712    3.56022295  8.07749541 12.13092488]\n [ 2.56877414  2.44001707  1.82684075  3.59882147  9.15639392 12.30468568]\n [ 2.9468194   1.91864557  1.090066    5.28710702  9.62977085 12.41261552]\n [ 3.63628318  2.33640267  1.73614439  6.03863768 10.6195424  12.53969402]\n [ 2.20029144  0.71044036  1.84846206  6.76454015 11.56870074 12.75664092]] \n\n [[-0.36490139  0.61780028  0.25661129 -0.2047275   0.33536406  0.51472131]\n [-0.37660651  0.30337223 -0.28898697  0.55407881 -0.60012743  0.12435072]\n [-0.39497731  0.20859735 -0.53057907 -0.52887558  0.01924209 -0.48875996]\n [-0.41357709 -0.10315992  0.08844954  0.55443188  0.59748375 -0.38223966]\n [-0.4405261  -0.18216267  0.70023828 -0.21670469 -0.40749599 -0.26345011]\n [-0.45155086 -0.66253305 -0.26639456 -0.13045428  0.06299164  0.5149752 ]] \n\n [[41.02168371  0.          0.          0.          0.          0.        ]\n [ 0.          4.21982278  0.          0.          0.          0.        ]\n [ 0.          0.          1.40840581  0.          0.          0.        ]\n [ 0.          0.          0.          0.89810717  0.          0.        ]\n [ 0.          0.          0.          0.          0.26783936  0.        ]\n [ 0.          0.          0.          0.          0.          0.08563239]] \n\n [[-0.17767881 -0.1288029  -0.08956278 -0.28420427 -0.57037798 -0.73329084]\n [ 0.30220342  0.55191203 -0.03268085 -0.61895617 -0.33155362  0.33160764]\n [ 0.6594196   0.40867303 -0.11807884  0.46538599  0.01495802 -0.40914749]\n [ 0.12554338 -0.31428387 -0.65188104  0.27989934 -0.48993437  0.37700968]\n [-0.39857703  0.39098855 -0.7018707  -0.10671407  0.39987659 -0.15605333]\n [ 0.51734353 -0.51004204 -0.24371395 -0.47938038  0.40568515 -0.1357583 ]]\n",
          "output_type": "stream"
        }
      ],
      "execution_count": 67
    },
    {
      "cell_type": "markdown",
      "source": "### Calculate r-value, minimum at which the next formula > 0.9",
      "metadata": {}
    },
    {
      "cell_type": "code",
      "source": "print([(S[:r]*S[:r]).sum()/(S*S).sum() for r in range (1,L+1)])",
      "metadata": {
        "trusted": true
      },
      "outputs": [
        {
          "name": "stdout",
          "text": "[0.9878622082422648, 0.9983156145945801, 0.9994800758016784, 0.9999535820762996, 0.9999956952735227, 1.0]\n",
          "output_type": "stream"
        }
      ],
      "execution_count": 69
    },
    {
      "cell_type": "code",
      "source": "r = 1\nS_hat = S[:r]\nS_hat = np.append(S_hat, [0] * (L-r))\nprint(np.diag(S_hat))",
      "metadata": {
        "trusted": true
      },
      "outputs": [
        {
          "name": "stdout",
          "text": "[[41.02168371  0.          0.          0.          0.          0.        ]\n [ 0.          0.          0.          0.          0.          0.        ]\n [ 0.          0.          0.          0.          0.          0.        ]\n [ 0.          0.          0.          0.          0.          0.        ]\n [ 0.          0.          0.          0.          0.          0.        ]\n [ 0.          0.          0.          0.          0.          0.        ]]\n",
          "output_type": "stream"
        }
      ],
      "execution_count": 75
    },
    {
      "cell_type": "markdown",
      "source": "### Set P = 1 as we not actually forecasting or imputting any values at this moment",
      "metadata": {}
    },
    {
      "cell_type": "code",
      "source": "P = len(y)/len(y)\nP_hat = np.dot(U, np.dot(np.diag(S_hat),V))*(1/P)\nprint(P_hat)",
      "metadata": {
        "trusted": true
      },
      "outputs": [
        {
          "name": "stdout",
          "text": "[[ 2.65965091  1.92803386  1.34065361  4.25421661  8.53791357 10.97653486]\n [ 2.74496582  1.98988033  1.3836584   4.39068118  8.81178836 11.32863448]\n [ 2.87886474  2.08694632  1.451153    4.60485778  9.24162575 11.88124315]\n [ 3.0144327   2.18522224  1.51948892  4.8217041   9.67682105 12.44074008]\n [ 3.21085549  2.32761303  1.61850001  5.13589011 10.30737028 13.25138843]\n [ 3.2912115   2.38586469  1.65900516  5.26442271 10.56532617 13.58302236]]\n",
          "output_type": "stream"
        }
      ],
      "execution_count": 79
    },
    {
      "cell_type": "code",
      "source": "Y = np.array([P_hat[L-1]])\nPhi = P_hat[:L-1]\nb = np.array([[0]*(L-1)])",
      "metadata": {
        "trusted": true
      },
      "outputs": [],
      "execution_count": 104
    },
    {
      "cell_type": "code",
      "source": "print(Y, '\\n\\n', Phi, '\\n\\n', b)",
      "metadata": {
        "trusted": true
      },
      "outputs": [
        {
          "name": "stdout",
          "text": "[[ 3.2912115   2.38586469  1.65900516  5.26442271 10.56532617 13.58302236]] \n\n [[ 2.65965091  1.92803386  1.34065361  4.25421661  8.53791357 10.97653486]\n [ 2.74496582  1.98988033  1.3836584   4.39068118  8.81178836 11.32863448]\n [ 2.87886474  2.08694632  1.451153    4.60485778  9.24162575 11.88124315]\n [ 3.0144327   2.18522224  1.51948892  4.8217041   9.67682105 12.44074008]\n [ 3.21085549  2.32761303  1.61850001  5.13589011 10.30737028 13.25138843]] \n\n [[0 0 0 0 0]]\n",
          "output_type": "stream"
        }
      ],
      "execution_count": 107
    },
    {
      "cell_type": "code",
      "source": "B, residuals, rank, s = np.linalg.lstsq(Phi.T, Y.T, rcond=None)\nprint('Parameters estimation:\\n', B)",
      "metadata": {
        "trusted": true
      },
      "outputs": [
        {
          "name": "stdout",
          "text": "Parameters estimation:\n [[0.20697295]\n [0.21361212]\n [0.22403208]\n [0.23458192]\n [0.24986746]]\n",
          "output_type": "stream"
        }
      ],
      "execution_count": 124
    },
    {
      "cell_type": "code",
      "source": "predict = P_hat.T[5]\ny_hat = np.array([0.0]*3)\nfor i in range(0,3):\n    y_hat[i] = np.array([B[len(B)-1-k]*predict[len(predict)-1-k] for k in range(0, L-1)]).sum()\n    predict = np.append(predict, np.array([y_hat[i]]))\npredict",
      "metadata": {
        "trusted": true
      },
      "outputs": [
        {
          "execution_count": 153,
          "output_type": "execute_result",
          "data": {
            "text/plain": "array([10.97653486, 11.32863448, 11.88124315, 12.44074008, 13.25138843,\n       13.58302236, 14.17231459, 14.81285647, 15.47440602])"
          },
          "metadata": {}
        }
      ],
      "execution_count": 153
    },
    {
      "cell_type": "code",
      "source": "",
      "metadata": {
        "trusted": true
      },
      "outputs": [],
      "execution_count": null
    }
  ]
}